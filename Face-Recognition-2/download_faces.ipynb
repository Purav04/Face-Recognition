{
 "cells": [
  {
   "cell_type": "code",
   "execution_count": 1,
   "metadata": {},
   "outputs": [],
   "source": [
    "# download faces for mking dataset\n",
    "import cv2 \n",
    "import numpy as np\n",
    "import os\n",
    "from PIL import Image"
   ]
  },
  {
   "cell_type": "code",
   "execution_count": 2,
   "metadata": {},
   "outputs": [],
   "source": [
    "def no_of_total_images(folder):\n",
    "    a=0\n",
    "    for file in os.listdir(folder):\n",
    "        for filename in os.listdir(folder+\"\\\\\"+file):\n",
    "            a+=1\n",
    "    return a\n"
   ]
  },
  {
   "cell_type": "code",
   "execution_count": 5,
   "metadata": {},
   "outputs": [],
   "source": [
    "video_capture = cv2.VideoCapture(0)\n",
    "i = no_of_total_images(r\"C:\\Users\\Purav\\Desktop\\deep learning\\face_recognition\\Dataset\\Train\")\n",
    "i=250\n",
    "a = i\n",
    "while True:\n",
    "    _, frame = video_capture.read()\n",
    "    \n",
    "    if i > a+49:\n",
    "        break\n",
    "        \n",
    "    face = cv2.resize(frame, (224, 224))\n",
    "        \n",
    "    cv2.imshow('Video', frame)\n",
    "    key = cv2.waitKey(1)\n",
    "    if key & 0xFF == ord('q'):\n",
    "        break\n",
    "#     cv2.imwrite((r'C:/Users/Purav/Desktop/deep learning/face_recognition/images/image_{}.jpg').format(i),face)\n",
    "    i+=1\n",
    "\n",
    "video_capture.release()\n",
    "cv2.destroyAllWindows()"
   ]
  },
  {
   "cell_type": "code",
   "execution_count": 4,
   "metadata": {},
   "outputs": [],
   "source": [
    "video_capture.release()\n",
    "\n",
    "cv2.destroyAllWindows()"
   ]
  },
  {
   "cell_type": "code",
   "execution_count": null,
   "metadata": {},
   "outputs": [],
   "source": []
  }
 ],
 "metadata": {
  "kernelspec": {
   "display_name": "Python 3",
   "language": "python",
   "name": "python3"
  },
  "language_info": {
   "codemirror_mode": {
    "name": "ipython",
    "version": 3
   },
   "file_extension": ".py",
   "mimetype": "text/x-python",
   "name": "python",
   "nbconvert_exporter": "python",
   "pygments_lexer": "ipython3",
   "version": "3.8.5"
  }
 },
 "nbformat": 4,
 "nbformat_minor": 4
}
